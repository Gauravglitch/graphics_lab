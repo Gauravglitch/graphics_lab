{
 "cells": [
  {
   "cell_type": "code",
   "execution_count": 1,
   "id": "8bf755fe",
   "metadata": {},
   "outputs": [
    {
     "name": "stdout",
     "output_type": "stream",
     "text": [
      "\n",
      "\n",
      "Profile: Dionysus\n",
      "\n",
      "\n",
      "\n",
      "\n",
      "\n",
      "Name: Dionysus\n",
      "\n",
      "Hometown: Mount Olympus\n",
      "\n",
      "Favorite animal: Leopard \n",
      "\n",
      "Favorite Color: Wine\n",
      "\n",
      "\n",
      "\n",
      "\n"
     ]
    }
   ],
   "source": [
    "# from bs4 import BeautifulSoup\n",
    "# from urllib.request import urlopen\n",
    "\n",
    "# url = \"http://olympus.realpython.org/profiles/dionysus\"\n",
    "# page = urlopen(url)\n",
    "# html = page.read().decode(\"utf-8\")\n",
    "# soup = BeautifulSoup(html, \"html.parser\")\n",
    "\n",
    "# print(soup.get_text())"
   ]
  },
  {
   "cell_type": "code",
   "execution_count": 2,
   "id": "704d89a0",
   "metadata": {},
   "outputs": [],
   "source": [
    "# # For image\n",
    "# import os\n",
    "\n",
    "# image_elements = soup.find_all('img')"
   ]
  },
  {
   "cell_type": "code",
   "execution_count": 6,
   "id": "6bdcf0bb",
   "metadata": {},
   "outputs": [
    {
     "ename": "ModuleNotFoundError",
     "evalue": "No module named 'requests'",
     "output_type": "error",
     "traceback": [
      "\u001b[1;31m---------------------------------------------------------------------------\u001b[0m",
      "\u001b[1;31mModuleNotFoundError\u001b[0m                       Traceback (most recent call last)",
      "Cell \u001b[1;32mIn[6], line 1\u001b[0m\n\u001b[1;32m----> 1\u001b[0m \u001b[38;5;28;01mimport\u001b[39;00m \u001b[38;5;21;01mrequests\u001b[39;00m\n\u001b[0;32m      2\u001b[0m \u001b[38;5;28;01mfrom\u001b[39;00m \u001b[38;5;21;01mbs4\u001b[39;00m \u001b[38;5;28;01mimport\u001b[39;00m BeautifulSoup\n\u001b[0;32m      3\u001b[0m \u001b[38;5;28;01mimport\u001b[39;00m \u001b[38;5;21;01mos\u001b[39;00m\n",
      "\u001b[1;31mModuleNotFoundError\u001b[0m: No module named 'requests'"
     ]
    }
   ],
   "source": [
    "import requests\n",
    "from bs4 import BeautifulSoup\n",
    "import os\n",
    "from urllib.parse import urljoin\n",
    "\n",
    "# Step 1: Send a GET request to the webpage\n",
    "url = 'http://olympus.realpython.org/profiles/dionysus'  # Replace with the desired webpage URL\n",
    "response = requests.get(url)\n",
    "\n",
    "# Step 2: Parse the HTML content\n",
    "soup = BeautifulSoup(response.content, 'html.parser')\n",
    "\n",
    "# Step 3: Find image elements\n",
    "image_elements = soup.find_all('img')\n",
    "\n",
    "# Step 4: Create the 'images' directory\n",
    "if not os.path.exists('images'):\n",
    "    os.makedirs('images')\n",
    "\n",
    "# Step 5: Download and save the images\n",
    "for image in image_elements:\n",
    "    image_url = image['src']\n",
    "    if image_url.startswith('http'):  # Absolute URL\n",
    "        image_source = image_url\n",
    "    else:  # Relative URL\n",
    "        image_source = urljoin(url, image_url)\n",
    "\n",
    "    image_name = os.path.basename(image_source)\n",
    "    image_path = os.path.join('images', image_name)  # Define the path where the image will be saved\n",
    "\n",
    "    # Sending a GET request to the image URL and saving the content to a file\n",
    "    image_response = requests.get(image_source)\n",
    "    with open(image_path, 'wb') as file:\n",
    "        file.write(image_response.content)\n",
    "\n",
    "    print(f'Saved image: {image_name}')\n",
    "\n",
    "print('All images have been saved.')"
   ]
  },
  {
   "cell_type": "code",
   "execution_count": 7,
   "id": "1994840f",
   "metadata": {},
   "outputs": [
    {
     "data": {
      "text/html": [
       "<div>\n",
       "<style scoped>\n",
       "    .dataframe tbody tr th:only-of-type {\n",
       "        vertical-align: middle;\n",
       "    }\n",
       "\n",
       "    .dataframe tbody tr th {\n",
       "        vertical-align: top;\n",
       "    }\n",
       "\n",
       "    .dataframe thead th {\n",
       "        text-align: right;\n",
       "    }\n",
       "</style>\n",
       "<table border=\"1\" class=\"dataframe\">\n",
       "  <thead>\n",
       "    <tr style=\"text-align: right;\">\n",
       "      <th></th>\n",
       "      <th>Rank</th>\n",
       "      <th>Artist</th>\n",
       "      <th>Awards</th>\n",
       "    </tr>\n",
       "  </thead>\n",
       "  <tbody>\n",
       "    <tr>\n",
       "      <th>0</th>\n",
       "      <td>1</td>\n",
       "      <td>Beyoncé[a]</td>\n",
       "      <td>32</td>\n",
       "    </tr>\n",
       "    <tr>\n",
       "      <th>1</th>\n",
       "      <td>2</td>\n",
       "      <td>Georg Solti</td>\n",
       "      <td>31</td>\n",
       "    </tr>\n",
       "    <tr>\n",
       "      <th>2</th>\n",
       "      <td>3</td>\n",
       "      <td>Quincy Jones</td>\n",
       "      <td>28</td>\n",
       "    </tr>\n",
       "    <tr>\n",
       "      <th>3</th>\n",
       "      <td>4</td>\n",
       "      <td>Alison Krauss[b]</td>\n",
       "      <td>27</td>\n",
       "    </tr>\n",
       "    <tr>\n",
       "      <th>4</th>\n",
       "      <td>4</td>\n",
       "      <td>Chick Corea</td>\n",
       "      <td>27</td>\n",
       "    </tr>\n",
       "  </tbody>\n",
       "</table>\n",
       "</div>"
      ],
      "text/plain": [
       "   Rank            Artist  Awards\n",
       "0     1        Beyoncé[a]      32\n",
       "1     2       Georg Solti      31\n",
       "2     3      Quincy Jones      28\n",
       "3     4  Alison Krauss[b]      27\n",
       "4     4       Chick Corea      27"
      ]
     },
     "execution_count": 7,
     "metadata": {},
     "output_type": "execute_result"
    }
   ],
   "source": [
    "import pandas as pd\n",
    "df=pd.read_html('https://en.wikipedia.org/wiki/Grammy_Award_records')[0]\n",
    "df.head()"
   ]
  },
  {
   "cell_type": "code",
   "execution_count": null,
   "id": "982acbf5",
   "metadata": {},
   "outputs": [],
   "source": []
  }
 ],
 "metadata": {
  "kernelspec": {
   "display_name": "Python 3 (ipykernel)",
   "language": "python",
   "name": "python3"
  },
  "language_info": {
   "codemirror_mode": {
    "name": "ipython",
    "version": 3
   },
   "file_extension": ".py",
   "mimetype": "text/x-python",
   "name": "python",
   "nbconvert_exporter": "python",
   "pygments_lexer": "ipython3",
   "version": "3.11.3"
  }
 },
 "nbformat": 4,
 "nbformat_minor": 5
}
