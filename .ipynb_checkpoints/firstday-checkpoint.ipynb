{
 "cells": [
  {
   "cell_type": "markdown",
   "id": "2f59d9f0",
   "metadata": {},
   "source": [
    "\n",
    "# python learning"
   ]
  },
  {
   "cell_type": "markdown",
   "id": "f5656c4a",
   "metadata": {},
   "source": [
    "## welcome to learing python from scratch"
   ]
  },
  {
   "cell_type": "code",
   "execution_count": 1,
   "id": "b419ae4e",
   "metadata": {},
   "outputs": [
    {
     "name": "stdout",
     "output_type": "stream",
     "text": [
      "hello\n",
      "wrd\n"
     ]
    }
   ],
   "source": [
    "message=\"hello,world\"\n",
    "substring1=message[0:5]\n",
    "print(substring1)\n",
    "substring1=message[6::2]\n",
    "print(substring1)"
   ]
  },
  {
   "cell_type": "code",
   "execution_count": 2,
   "id": "4337565c",
   "metadata": {},
   "outputs": [
    {
     "name": "stdout",
     "output_type": "stream",
     "text": [
      "s raon\n"
     ]
    }
   ],
   "source": [
    "a=\"my name is raone\"\n",
    "print(a[-7:-1])"
   ]
  },
  {
   "cell_type": "code",
   "execution_count": 3,
   "id": "7f836fd4",
   "metadata": {},
   "outputs": [
    {
     "name": "stdout",
     "output_type": "stream",
     "text": [
      "1\n",
      "4\n"
     ]
    },
    {
     "data": {
      "text/plain": [
       "[2, 3, 4, 5]"
      ]
     },
     "execution_count": 3,
     "metadata": {},
     "output_type": "execute_result"
    }
   ],
   "source": [
    "n=[1,2,3,4]\n",
    "print(n[0])\n",
    "print(n[3])\n",
    "n\n",
    "len(a)\n",
    "n.append(5)\n",
    "n\n",
    "n.remove(1)\n",
    "n"
   ]
  },
  {
   "cell_type": "code",
   "execution_count": 4,
   "id": "0b310e57",
   "metadata": {},
   "outputs": [
    {
     "name": "stdout",
     "output_type": "stream",
     "text": [
      "2\n"
     ]
    }
   ],
   "source": [
    "my_tuple=(1,2,3,4)\n",
    "print(my_tuple[1])"
   ]
  },
  {
   "cell_type": "code",
   "execution_count": 68,
   "id": "41a2ae26",
   "metadata": {},
   "outputs": [
    {
     "data": {
      "text/plain": [
       "{1, 2}"
      ]
     },
     "execution_count": 68,
     "metadata": {},
     "output_type": "execute_result"
    }
   ],
   "source": [
    "set={1,2,3,3}\n",
    "set\n",
    "set.remove(3)\n",
    "set"
   ]
  },
  {
   "cell_type": "code",
   "execution_count": 5,
   "id": "ec55f12e",
   "metadata": {},
   "outputs": [
    {
     "name": "stdout",
     "output_type": "stream",
     "text": [
      "John\n",
      "{'name': 'John', 'age': 30, 'city': 'new york', 'occupation': 'Engineer'}\n",
      "False\n"
     ]
    }
   ],
   "source": [
    "#creating a dictionary\n",
    "my_dict={\"name\":\"John\",\"age\":30,\"city\":\"new york\"}\n",
    "print(my_dict[\"name\"])\n",
    "my_dict[\"occupation\"]=\"Engineer\"\n",
    "print(my_dict)\n",
    "print(\"mala\" in my_dict)"
   ]
  },
  {
   "cell_type": "code",
   "execution_count": 6,
   "id": "1245fb04",
   "metadata": {},
   "outputs": [
    {
     "name": "stdout",
     "output_type": "stream",
     "text": [
      "enter student's name:gaurav maharjan\n",
      "enter student's age:22\n",
      "enter student's grade:60\n",
      "Enter subjects(seperate by commas):32\n",
      "enter marks(seperate by comma):99\n",
      "\n",
      "Average marks: 99.0\n",
      "gaurav maharjan has passed.\n"
     ]
    }
   ],
   "source": [
    "student={}\n",
    "student[\"name\"]=input(\"enter student's name:\")\n",
    "student[\"age\"]=int(input(\"enter student's age:\"))\n",
    "student[\"grade\"]=input(\"enter student's grade:\")\n",
    "sub_input=input(\"Enter subjects(seperate by commas):\")\n",
    "student[\"subjects\"]=set(sub_input.split(\",\"))\n",
    "marks_input = input(\"enter marks(seperate by comma):\")\n",
    "student[\"marks\"]=[int(mark) for mark in marks_input.split(\",\")]\n",
    "avg_marks=sum(student[\"marks\"])/len(student[\"marks\"])\n",
    "print(\"\\nAverage marks:\",round(avg_marks,2))#yesma round ko 2 vaneko chai decimal paxadi 2 digits chai dekhauxa\n",
    "if avg_marks >=50:\n",
    "    print(student[\"name\"],\"has passed.\")\n",
    "else:\n",
    "    print(student[\"name\"],\"has failed\")"
   ]
  }
 ],
 "metadata": {
  "kernelspec": {
   "display_name": "Python 3 (ipykernel)",
   "language": "python",
   "name": "python3"
  },
  "language_info": {
   "codemirror_mode": {
    "name": "ipython",
    "version": 3
   },
   "file_extension": ".py",
   "mimetype": "text/x-python",
   "name": "python",
   "nbconvert_exporter": "python",
   "pygments_lexer": "ipython3",
   "version": "3.11.3"
  }
 },
 "nbformat": 4,
 "nbformat_minor": 5
}
