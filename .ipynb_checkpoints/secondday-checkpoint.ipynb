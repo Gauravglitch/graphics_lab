{
 "cells": [
  {
   "cell_type": "code",
   "execution_count": 14,
   "id": "234f2307",
   "metadata": {},
   "outputs": [
    {
     "name": "stdout",
     "output_type": "stream",
     "text": [
      "Enter the  marks for math:45\n",
      "Enter the marks for science:56\n",
      "Enter the marks for science:67\n",
      "avg marks: 56\n",
      "grade: F\n"
     ]
    }
   ],
   "source": [
    "###### input marks for the math,science and english\n",
    "math_mark = int(input(\"Enter the  marks for math:\"))\n",
    "science_mark =int(input(\"Enter the marks for science:\"))\n",
    "english_mark = int(input(\"Enter the marks for science:\"))\n",
    "\n",
    "avg_mark=int((math_mark+science_mark+english_mark)/3)\n",
    "\n",
    "if avg_mark>=90:\n",
    "    grade=\"A\"\n",
    "elif avg_mark>=80:\n",
    "    grade=\"B\"\n",
    "elif avg_mark>=70:\n",
    "    grade=\"C\"\n",
    "elif avg_mark>=60:\n",
    "    grade=\"D\"\n",
    "else:\n",
    "    grade=\"F\"\n",
    "    \n",
    "print(\"avg marks:\",avg_mark)\n",
    "print(\"grade:\",grade)\n",
    "    \n",
    "\n"
   ]
  },
  {
   "cell_type": "code",
   "execution_count": 17,
   "id": "94424341",
   "metadata": {},
   "outputs": [
    {
     "name": "stdout",
     "output_type": "stream",
     "text": [
      "1055\n"
     ]
    }
   ],
   "source": [
    "#writing functions\n",
    "def add(a,b):\n",
    "    return a+b\n",
    "result=add(999,56)\n",
    "print(result)"
   ]
  },
  {
   "cell_type": "code",
   "execution_count": 2,
   "id": "0bcd3d3f",
   "metadata": {},
   "outputs": [
    {
     "name": "stdout",
     "output_type": "stream",
     "text": [
      "3\n",
      "5\n"
     ]
    }
   ],
   "source": [
    "y=5\n",
    "def double():\n",
    "    y=3\n",
    "    print(y)\n",
    "double()\n",
    "print(y)"
   ]
  },
  {
   "cell_type": "code",
   "execution_count": 1,
   "id": "950ffdf4",
   "metadata": {},
   "outputs": [
    {
     "name": "stdout",
     "output_type": "stream",
     "text": [
      "31.41592653589793\n"
     ]
    }
   ],
   "source": [
    "import math\n",
    "radius =5\n",
    "circumference=2*math.pi*radius\n",
    "print(circumference)"
   ]
  },
  {
   "cell_type": "code",
   "execution_count": null,
   "id": "e61f307f",
   "metadata": {},
   "outputs": [],
   "source": [
    "#word counter\n",
    "    def count_words(sentence):\n",
    "    words=sentence.split()\n",
    "    return len(words)\n",
    "\n",
    "user_sentence=input(\"enter the sentence:\")\n",
    "word_counter=count_words(user_sentence)\n",
    "print(\"the number of words is:\",word_counter)\n",
    "\n",
    "\n",
    "    "
   ]
  },
  {
   "cell_type": "code",
   "execution_count": 10,
   "id": "59523ab8",
   "metadata": {},
   "outputs": [
    {
     "name": "stdout",
     "output_type": "stream",
     "text": [
      "what is yout name?gaurav\n",
      "your name is  gaurav . \n",
      "WAA\n"
     ]
    }
   ],
   "source": [
    "prompt=\"what is yout name?\"\n",
    "answer= input(prompt)\n",
    "print(\"your name is \",answer,\".\", \"\\nWAA\")"
   ]
  },
  {
   "cell_type": "code",
   "execution_count": 15,
   "id": "5776302f",
   "metadata": {},
   "outputs": [
    {
     "name": "stdout",
     "output_type": "stream",
     "text": [
      "this is some content\n"
     ]
    }
   ],
   "source": [
    "# writeing in the file\n",
    "with open(\"output.txt\",\"r\") as file:\n",
    "\n",
    "    content=file.read()\n",
    "\n",
    "    print(content)\n"
   ]
  },
  {
   "cell_type": "code",
   "execution_count": 17,
   "id": "aabf5d88",
   "metadata": {},
   "outputs": [],
   "source": [
    "file=open(\"output.txt\",\"w\")\n",
    "file.write(\"ajja futsal xa hai.\")\n",
    "file.close()"
   ]
  },
  {
   "cell_type": "code",
   "execution_count": 18,
   "id": "ef91406d",
   "metadata": {},
   "outputs": [
    {
     "name": "stdout",
     "output_type": "stream",
     "text": [
      "ajja futsal xa hai.\n"
     ]
    }
   ],
   "source": [
    "with open(\"output.txt\",\"r\") as file:\n",
    "\n",
    "    content=file.read()\n",
    "\n",
    "    print(content)\n"
   ]
  },
  {
   "cell_type": "code",
   "execution_count": 22,
   "id": "0214e774",
   "metadata": {},
   "outputs": [
    {
     "name": "stdout",
     "output_type": "stream",
     "text": [
      "my name is alice and i am 25.000000years old\n"
     ]
    }
   ],
   "source": [
    "name=\"alice\"\n",
    "age=25\n",
    "print(\"my name is %s and i am %fyears old\"%(name,age))"
   ]
  },
  {
   "cell_type": "code",
   "execution_count": 24,
   "id": "ece3a8d1",
   "metadata": {},
   "outputs": [
    {
     "name": "stdout",
     "output_type": "stream",
     "text": [
      "my name is alice and i am 25years old\n"
     ]
    }
   ],
   "source": [
    "#formatting\n",
    "name=\"alice\"\n",
    "age=25\n",
    "print(\"my name is {} and i am {}years old\".format(name,age))"
   ]
  },
  {
   "cell_type": "code",
   "execution_count": 28,
   "id": "e3204050",
   "metadata": {},
   "outputs": [
    {
     "name": "stdout",
     "output_type": "stream",
     "text": [
      "my name is alice and i am 25 years old\n"
     ]
    }
   ],
   "source": [
    "name=\"alice\"\n",
    "age=25\n",
    "print(f\"my name is {name} and i am {age} years old\")"
   ]
  },
  {
   "cell_type": "code",
   "execution_count": 37,
   "id": "0b94ce6f",
   "metadata": {},
   "outputs": [
    {
     "name": "stdout",
     "output_type": "stream",
     "text": [
      "hobby tracker\n",
      "1. add hobbies\n",
      "2.view hobbies\n",
      "enter your choice(1 or 2):1\n",
      "enter a hobby(or 'q' to quit)q\n",
      "hobbies saved successfully\n"
     ]
    }
   ],
   "source": [
    "def add_hobbies(): #function declaration\n",
    "    hobbies=[] #creating empty list\n",
    "    while True:\n",
    "        hobby=input(\"enter a hobby(or 'q' to quit)\")\n",
    "        if hobby.lower()=='q':\n",
    "                       break\n",
    "        hobbies.apend(hobby)\n",
    "    with open(\"hobbies.txt\",\"w\") as file:\n",
    "        file.write(\"\\n\" .join(hobbies))\n",
    "    print(\"hobbies saved successfully\")\n",
    "def view_hobbies():\n",
    "    with open(\"hobbies.txt\",\"r\") as file:\n",
    "        hobbies=file.read().splitlines()\n",
    "    print(\"your hobbies:\")\n",
    "    for hobby in hobbies:\n",
    "        print(hobby)\n",
    "#main program\n",
    "print(\"hobby tracker\")\n",
    "print(\"1. add hobbies\")\n",
    "print(\"2.view hobbies\")\n",
    "choice=input(\"enter your choice(1 or 2):\")\n",
    "if choice=='1':\n",
    "    add_hobbies()\n",
    "elif choice=='2':\n",
    "    view_hobbies()\n",
    "else:\n",
    "        print(\"invalid\")\n",
    "    \n",
    "                       \n",
    "                       "
   ]
  },
  {
   "cell_type": "code",
   "execution_count": null,
   "id": "db4377bf",
   "metadata": {},
   "outputs": [],
   "source": []
  }
 ],
 "metadata": {
  "kernelspec": {
   "display_name": "Python 3 (ipykernel)",
   "language": "python",
   "name": "python3"
  },
  "language_info": {
   "codemirror_mode": {
    "name": "ipython",
    "version": 3
   },
   "file_extension": ".py",
   "mimetype": "text/x-python",
   "name": "python",
   "nbconvert_exporter": "python",
   "pygments_lexer": "ipython3",
   "version": "3.11.3"
  }
 },
 "nbformat": 4,
 "nbformat_minor": 5
}
